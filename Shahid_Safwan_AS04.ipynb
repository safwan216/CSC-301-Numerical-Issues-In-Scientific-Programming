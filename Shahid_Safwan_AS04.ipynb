{
 "cells": [
  {
   "cell_type": "code",
   "execution_count": 14,
   "metadata": {},
   "outputs": [
    {
     "name": "stdout",
     "output_type": "stream",
     "text": [
      "For h = 0.00001\n",
      "\n",
      "Derivative Formulas    Forward Difference     Three-Point Point Midpoint    Five-Point Midpoint\n",
      "---------------------  ---------------------  ----------------------------  ----------------------\n",
      "Calculated Values      0.1160538294972882     0.1160482222793864            0.1160482221988374\n",
      "Exact Value            0.1160482221986725     0.1160482221986725            0.1160482221986725\n",
      "Absolute Error         5.607298615692424e-06  8.071389390185146e-11         1.6489587473245138e-13\n"
     ]
    }
   ],
   "source": [
    "#Name: Safwan Shahid\n",
    "import math\n",
    "import time\n",
    "from decimal import Decimal\n",
    "from scipy.misc import derivative\n",
    "import numpy as np\n",
    "from tabulate import tabulate;\n",
    "\n",
    "print(\"For h = 0.00001\")\n",
    "print(\"\")\n",
    "\n",
    "def Forward_Difference_Formula(func,x):\n",
    "    h = 0.00001\n",
    "    derivative = (func(x+h) - func(x))/h\n",
    "    return derivative\n",
    "\n",
    "def ThreePoint_Point_Midpoint_Formula(func,x):\n",
    "    h = 0.00001\n",
    "    derivative = (func(x+h) - func(x-h))/(2*h)\n",
    "    return derivative\n",
    "\n",
    "def Five_Point_Midpoint_Formula(func,x):\n",
    "    h = 0.00001\n",
    "    derivative = (func(x - 2*h) - 8*func(x-h) + 8*func(x + h) - func(x + 2*h))/(12*h)\n",
    "    return derivative\n",
    "\n",
    "def main():\n",
    "    func = lambda x: (math.sin(x)**3)\n",
    "    x = 1/5\n",
    "    exact_calc = 3*math.sin(x)*math.sin(x)*math.cos(x)\n",
    "    ForwardDifferenceFormula = Forward_Difference_Formula(func,x)\n",
    "    ThreePointMidpointFormula = ThreePoint_Point_Midpoint_Formula(func,x)\n",
    "    FivePointMidpointFormula = Five_Point_Midpoint_Formula(func,x)\n",
    "    table=[[\"Calculated Values\",ForwardDifferenceFormula,ThreePointMidpointFormula,FivePointMidpointFormula],\n",
    "           [\"Exact Value\",exact_calc,exact_calc,exact_calc],\n",
    "           [\"Absolute Error\",abs(exact_calc - ForwardDifferenceFormula),abs(exact_calc - ThreePointMidpointFormula),abs(exact_calc - FivePointMidpointFormula)]]\n",
    "    print(tabulate(table,headers=[\"Derivative Formulas\",\"Forward Difference\",\"Three-Point Point Midpoint\",\"Five-Point Midpoint\"],disable_numparse=True))\n",
    "main()"
   ]
  },
  {
   "cell_type": "code",
   "execution_count": 18,
   "metadata": {},
   "outputs": [
    {
     "name": "stdout",
     "output_type": "stream",
     "text": [
      "For h = 0.00000001\n",
      "\n",
      "Derivative Formulas    Forward Difference      Three-Point Point Midpoint    Five-Point Midpoint\n",
      "---------------------  ----------------------  ----------------------------  ----------------------\n",
      "Calculated Values      0.11604822779814894     0.11604822216029764           0.11604822217475366\n",
      "Exact Value            0.1160482221986725      0.1160482221986725            0.1160482221986725\n",
      "Absolute Error         5.5994764380784545e-09  3.8374858846168536e-11        2.3918839131553682e-11\n"
     ]
    }
   ],
   "source": [
    "import math\n",
    "import time\n",
    "from decimal import Decimal\n",
    "from scipy.misc import derivative\n",
    "import numpy as np\n",
    "from tabulate import tabulate;\n",
    "\n",
    "print(\"For h = 0.00000001\")\n",
    "print(\"\")\n",
    "\n",
    "def Forward_Difference_Formula(func,x):\n",
    "    h = 0.00000001\n",
    "    derivative = (func(x+h) - func(x))/h\n",
    "    return derivative\n",
    "\n",
    "def ThreePoint_Point_Midpoint_Formula(func,x):\n",
    "    h = 0.00000001\n",
    "    derivative = (func(x+h) - func(x-h))/(2*h)\n",
    "    return derivative\n",
    "\n",
    "def Five_Point_Midpoint_Formula(func,x):\n",
    "    h = 0.00000001\n",
    "    derivative = (func(x - 2*h) - 8*func(x-h) + 8*func(x + h) - func(x + 2*h))/(12*h)\n",
    "    return derivative\n",
    "\n",
    "def main():\n",
    "    func = lambda x: (math.sin(x)**3)\n",
    "    x = 1/5\n",
    "    exact_calc = 3*math.sin(x)*math.sin(x)*math.cos(x)\n",
    "    ForwardDifferenceFormula = Forward_Difference_Formula(func,x)\n",
    "    ThreePointMidpointFormula = ThreePoint_Point_Midpoint_Formula(func,x)\n",
    "    FivePointMidpointFormula = Five_Point_Midpoint_Formula(func,x)\n",
    "    table=[[\"Calculated Values\",ForwardDifferenceFormula,ThreePointMidpointFormula,FivePointMidpointFormula],\n",
    "           [\"Exact Value\",exact_calc,exact_calc,exact_calc],\n",
    "           [\"Absolute Error\",abs(exact_calc - ForwardDifferenceFormula),abs(exact_calc - ThreePointMidpointFormula),abs(exact_calc - FivePointMidpointFormula)]]\n",
    "    print(tabulate(table,headers=[\"Derivative Formulas\",\"Forward Difference\",\"Three-Point Point Midpoint\",\"Five-Point Midpoint\"],disable_numparse=True))\n",
    "main()"
   ]
  },
  {
   "cell_type": "code",
   "execution_count": 20,
   "metadata": {},
   "outputs": [
    {
     "name": "stdout",
     "output_type": "stream",
     "text": [
      "Above you can see the results of this lab. The exact values for each formula are the same as I manually took the derivative of sin^3(x) and plugged in 1/5 for x. I used this as the exact value for each one. I used the repective formulas to calculate the value for each. Finally, I took the absoulute value of the difference of the calculated and exact values for each. The result was that the calculation for the Five-Point was the most accurate, followed by the Three-Point with the Forward Difference being the least accurate. All-in-all, the absolute errors show that for each formula the calculated value was very close to the exact value.\n",
      "Note: I have done this comparison twice with two different 'h' values and it is clear that when you use a smaller 'h' value, the absolute error for the derivative formulas decreases which means the calculated values become more accurate, with the exception of the Five-Point Midpoint formula which has a decreased accuracy in its calculated value.\n"
     ]
    }
   ],
   "source": [
    "print(\"Above you can see the results of this lab. The exact values for each formula are the same as I manually took the derivative of sin^3(x) and plugged in 1/5 for x. I used this as the exact value for each one. I used the repective formulas to calculate the value for each. Finally, I took the absoulute value of the difference of the calculated and exact values for each. The result was that the calculation for the Five-Point was the most accurate, followed by the Three-Point with the Forward Difference being the least accurate. All-in-all, the absolute errors show that for each formula the calculated value was very close to the exact value.\")\n",
    "print(\"Note: I have done this comparison twice with two different 'h' values and it is clear that when you use a smaller 'h' value, the absolute error for the derivative formulas decreases which means the calculated values become more accurate, with the exception of the Five-Point Midpoint formula which has a decreased accuracy in its calculated value.\")"
   ]
  },
  {
   "cell_type": "code",
   "execution_count": null,
   "metadata": {},
   "outputs": [],
   "source": []
  }
 ],
 "metadata": {
  "kernelspec": {
   "display_name": "Python 3",
   "language": "python",
   "name": "python3"
  },
  "language_info": {
   "codemirror_mode": {
    "name": "ipython",
    "version": 3
   },
   "file_extension": ".py",
   "mimetype": "text/x-python",
   "name": "python",
   "nbconvert_exporter": "python",
   "pygments_lexer": "ipython3",
   "version": "3.8.5"
  }
 },
 "nbformat": 4,
 "nbformat_minor": 4
}
