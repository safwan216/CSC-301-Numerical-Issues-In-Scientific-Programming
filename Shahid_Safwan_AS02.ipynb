{
 "cells": [
  {
   "cell_type": "code",
   "execution_count": 1,
   "metadata": {},
   "outputs": [
    {
     "ename": "KeyboardInterrupt",
     "evalue": "",
     "output_type": "error",
     "traceback": [
      "\u001b[1;31m---------------------------------------------------------------------------\u001b[0m",
      "\u001b[1;31mKeyboardInterrupt\u001b[0m                         Traceback (most recent call last)",
      "\u001b[1;32m<ipython-input-1-22f7ced1590b>\u001b[0m in \u001b[0;36m<module>\u001b[1;34m\u001b[0m\n\u001b[0;32m     73\u001b[0m     [\"Relative Error for Compensated Sums\",relativeerrorcompensated[0],relativeerrorcompensated[1],relativeerrorcompensated[2],relativeerrorcompensated[3],relativeerrorcompensated[4]]]\n\u001b[0;32m     74\u001b[0m     \u001b[0mprint\u001b[0m\u001b[1;33m(\u001b[0m\u001b[0mtabulate\u001b[0m\u001b[1;33m(\u001b[0m\u001b[0mtable\u001b[0m\u001b[1;33m,\u001b[0m\u001b[0mheaders\u001b[0m\u001b[1;33m=\u001b[0m\u001b[1;33m[\u001b[0m\u001b[1;34m\"Labels\"\u001b[0m\u001b[1;33m,\u001b[0m\u001b[1;34m\"10^4\"\u001b[0m\u001b[1;33m,\u001b[0m\u001b[1;34m\"10^5\"\u001b[0m\u001b[1;33m,\u001b[0m\u001b[1;34m\"10^6\"\u001b[0m\u001b[1;33m,\u001b[0m\u001b[1;34m\"10^7\"\u001b[0m\u001b[1;33m,\u001b[0m\u001b[1;34m\"10^8\"\u001b[0m\u001b[1;33m]\u001b[0m\u001b[1;33m,\u001b[0m\u001b[0mdisable_numparse\u001b[0m\u001b[1;33m=\u001b[0m\u001b[1;32mTrue\u001b[0m\u001b[1;33m)\u001b[0m\u001b[1;33m)\u001b[0m\u001b[1;33m\u001b[0m\u001b[1;33m\u001b[0m\u001b[0m\n\u001b[1;32m---> 75\u001b[1;33m \u001b[0mmain\u001b[0m\u001b[1;33m(\u001b[0m\u001b[1;33m)\u001b[0m\u001b[1;33m\u001b[0m\u001b[1;33m\u001b[0m\u001b[0m\n\u001b[0m",
      "\u001b[1;32m<ipython-input-1-22f7ced1590b>\u001b[0m in \u001b[0;36mmain\u001b[1;34m()\u001b[0m\n\u001b[0;32m     47\u001b[0m         \u001b[0mnaivesumtimes\u001b[0m\u001b[1;33m.\u001b[0m\u001b[0mappend\u001b[0m\u001b[1;33m(\u001b[0m\u001b[0mnaivesumtime\u001b[0m\u001b[1;33m)\u001b[0m\u001b[1;33m\u001b[0m\u001b[1;33m\u001b[0m\u001b[0m\n\u001b[0;32m     48\u001b[0m \u001b[1;33m\u001b[0m\u001b[0m\n\u001b[1;32m---> 49\u001b[1;33m         \u001b[0mcompensatedsum\u001b[0m\u001b[1;33m,\u001b[0m \u001b[0mcompensatedsumtime\u001b[0m \u001b[1;33m=\u001b[0m \u001b[0mcompensatedSum\u001b[0m\u001b[1;33m(\u001b[0m\u001b[0mn\u001b[0m\u001b[1;33m)\u001b[0m\u001b[1;33m\u001b[0m\u001b[1;33m\u001b[0m\u001b[0m\n\u001b[0m\u001b[0;32m     50\u001b[0m         \u001b[0mcompensatedsums\u001b[0m\u001b[1;33m.\u001b[0m\u001b[0mappend\u001b[0m\u001b[1;33m(\u001b[0m\u001b[0mcompensatedsum\u001b[0m\u001b[1;33m)\u001b[0m\u001b[1;33m\u001b[0m\u001b[1;33m\u001b[0m\u001b[0m\n\u001b[0;32m     51\u001b[0m         \u001b[0mcompensatedsumtimes\u001b[0m\u001b[1;33m.\u001b[0m\u001b[0mappend\u001b[0m\u001b[1;33m(\u001b[0m\u001b[0mcompensatedsumtime\u001b[0m\u001b[1;33m)\u001b[0m\u001b[1;33m\u001b[0m\u001b[1;33m\u001b[0m\u001b[0m\n",
      "\u001b[1;32m<ipython-input-1-22f7ced1590b>\u001b[0m in \u001b[0;36mcompensatedSum\u001b[1;34m(n)\u001b[0m\n\u001b[0;32m     18\u001b[0m     \u001b[1;32mfor\u001b[0m \u001b[0mi\u001b[0m \u001b[1;32min\u001b[0m \u001b[0mrange\u001b[0m\u001b[1;33m(\u001b[0m\u001b[1;36m0\u001b[0m\u001b[1;33m,\u001b[0m\u001b[0mn\u001b[0m\u001b[1;33m)\u001b[0m\u001b[1;33m:\u001b[0m\u001b[1;33m\u001b[0m\u001b[1;33m\u001b[0m\u001b[0m\n\u001b[0;32m     19\u001b[0m         \u001b[0mtemp\u001b[0m\u001b[1;33m=\u001b[0m\u001b[0ms\u001b[0m\u001b[1;33m\u001b[0m\u001b[1;33m\u001b[0m\u001b[0m\n\u001b[1;32m---> 20\u001b[1;33m         \u001b[0my\u001b[0m\u001b[1;33m=\u001b[0m\u001b[0mmath\u001b[0m\u001b[1;33m.\u001b[0m\u001b[0msqrt\u001b[0m\u001b[1;33m(\u001b[0m\u001b[1;36m13\u001b[0m\u001b[1;33m)\u001b[0m\u001b[1;33m+\u001b[0m\u001b[0me\u001b[0m\u001b[1;33m\u001b[0m\u001b[1;33m\u001b[0m\u001b[0m\n\u001b[0m\u001b[0;32m     21\u001b[0m         \u001b[0ms\u001b[0m\u001b[1;33m=\u001b[0m\u001b[0mtemp\u001b[0m\u001b[1;33m+\u001b[0m\u001b[0my\u001b[0m\u001b[1;33m\u001b[0m\u001b[1;33m\u001b[0m\u001b[0m\n\u001b[0;32m     22\u001b[0m         \u001b[0me\u001b[0m\u001b[1;33m=\u001b[0m\u001b[1;33m(\u001b[0m\u001b[0mtemp\u001b[0m\u001b[1;33m-\u001b[0m\u001b[0ms\u001b[0m\u001b[1;33m)\u001b[0m\u001b[1;33m+\u001b[0m\u001b[0my\u001b[0m\u001b[1;33m\u001b[0m\u001b[1;33m\u001b[0m\u001b[0m\n",
      "\u001b[1;31mKeyboardInterrupt\u001b[0m: "
     ]
    }
   ],
   "source": [
    "import math;\n",
    "import time;\n",
    "from tabulate import tabulate;\n",
    "\n",
    "def naiveSum(n):\n",
    "    start_time=time.time()\n",
    "    s=0\n",
    "    for i in range(0,n):\n",
    "        s += math.sqrt(13)\n",
    "    end_time=time.time()\n",
    "    elapsed_time=end_time-start_time\n",
    "    return s, elapsed_time\n",
    "\n",
    "def compensatedSum(n):\n",
    "    start_time=time.time()\n",
    "    s=0\n",
    "    e=0\n",
    "    for i in range(0,n):\n",
    "        temp=s\n",
    "        y=math.sqrt(13)+e\n",
    "        s=temp+y\n",
    "        e=(temp-s)+y\n",
    "    s += e\n",
    "    end_time=time.time()\n",
    "    elapsed_time=end_time - start_time\n",
    "    return s, elapsed_time\n",
    "\n",
    "def main():\n",
    "    N=[10**i for i in range(4,9)]\n",
    "\n",
    "    naivesums=[]\n",
    "    naivesumtimes=[]\n",
    "\n",
    "    compensatedsums=[]\n",
    "    compensatedsumtimes=[]\n",
    "    \n",
    "    absoluteerrornaive=[]\n",
    "    absoluteerrorcompensated=[]\n",
    "    \n",
    "    relativeerrornaive=[]\n",
    "    relativeerrorcompensated=[]\n",
    "\n",
    "    exactsums=[]\n",
    "    for n in N:\n",
    "        naivesum, naivesumtime = naiveSum(n)\n",
    "        naivesums.append(naivesum)\n",
    "        naivesumtimes.append(naivesumtime)\n",
    "\n",
    "        compensatedsum, compensatedsumtime = compensatedSum(n)\n",
    "        compensatedsums.append(compensatedsum)\n",
    "        compensatedsumtimes.append(compensatedsumtime)\n",
    "\n",
    "        exactsums.append(n * math.sqrt(13))\n",
    "        \n",
    "    for i in range(0,5):\n",
    "        absoluteerrornaive.append(abs(exactsums[i]-naivesums[i]))\n",
    "        absoluteerrorcompensated.append(abs(exactsums[i]-compensatedsums[i]))\n",
    "        \n",
    "    for i in range(0,5):\n",
    "        relativeerrornaive.append(abs(absoluteerrornaive[i]/exactsums[i])*100)\n",
    "        relativeerrorcompensated.append(abs(absoluteerrorcompensated[i]/exactsums[i])*100)\n",
    "        \n",
    "\n",
    "        \n",
    "    table=[[\"Naive Sums\",naivesums[0],naivesums[1],naivesums[2],naivesums[3],naivesums[4]],\n",
    "    [\"Naive Sum Times\",naivesumtimes[0],naivesumtimes[1],naivesumtimes[2],naivesumtimes[3],naivesumtimes[4]],\n",
    "    [\"Compensated Sums\",compensatedsums[0],compensatedsums[1],compensatedsums[2],compensatedsums[3],compensatedsums[4]],\n",
    "    [\"Compensated Sum Times\",compensatedsumtimes[0],compensatedsumtimes[1],compensatedsumtimes[2],compensatedsumtimes[3],compensatedsumtimes[4]],\n",
    "    [\"Exact Sums\",exactsums[0],exactsums[1],exactsums[2],exactsums[3],exactsums[4]],\n",
    "    [\"Absolute Error for Naive Sums\",absoluteerrornaive[0],absoluteerrornaive[1],absoluteerrornaive[2],absoluteerrornaive[3],absoluteerrornaive[4]],\n",
    "    [\"Absolute Error for Compensated Sums\",absoluteerrorcompensated[0],absoluteerrorcompensated[1],absoluteerrorcompensated[2],absoluteerrorcompensated[3],absoluteerrorcompensated[4]],\n",
    "    [\"Relative Error for Naive Sums\",relativeerrornaive[0],relativeerrornaive[1],relativeerrornaive[2],relativeerrornaive[3],relativeerrornaive[4]],\n",
    "    [\"Relative Error for Compensated Sums\",relativeerrorcompensated[0],relativeerrorcompensated[1],relativeerrorcompensated[2],relativeerrorcompensated[3],relativeerrorcompensated[4]]]\n",
    "    print(tabulate(table,headers=[\"Labels\",\"10^4\",\"10^5\",\"10^6\",\"10^7\",\"10^8\"],disable_numparse=True))\n",
    "main()"
   ]
  },
  {
   "cell_type": "code",
   "execution_count": 3,
   "metadata": {},
   "outputs": [
    {
     "name": "stdout",
     "output_type": "stream",
     "text": [
      "The main take away from this data is that the errors for the compensated sums are zero while the errors for the naive sums are non-zero. Based on the data, the naive summation method is much faster than the compensated summation method. Also, for the naive sums errors, there is a steady increase in both methods with a higher exponential rate. On the other hand, the calculation time for the naive summation is consistently faster than that of the compensated sum, with the difference becoming more evident with a higher exponential rate. All in all, these errors represent the expected results for these two algorithms.\n"
     ]
    }
   ],
   "source": [
    "print(\"The main take away from this data is that the errors for the compensated sums are zero while the errors for the naive sums are non-zero. Based on the data, the naive summation method is much faster than the compensated summation method. Also, for the naive sums errors, there is a steady increase in both methods with a higher exponential rate. On the other hand, the calculation time for the naive summation is consistently faster than that of the compensated sum, with the difference becoming more evident with a higher exponential rate. All in all, these errors represent the expected results for these two algorithms.\")"
   ]
  },
  {
   "cell_type": "code",
   "execution_count": null,
   "metadata": {},
   "outputs": [],
   "source": []
  }
 ],
 "metadata": {
  "kernelspec": {
   "display_name": "Python 3",
   "language": "python",
   "name": "python3"
  },
  "language_info": {
   "codemirror_mode": {
    "name": "ipython",
    "version": 3
   },
   "file_extension": ".py",
   "mimetype": "text/x-python",
   "name": "python",
   "nbconvert_exporter": "python",
   "pygments_lexer": "ipython3",
   "version": "3.8.5"
  }
 },
 "nbformat": 4,
 "nbformat_minor": 4
}
